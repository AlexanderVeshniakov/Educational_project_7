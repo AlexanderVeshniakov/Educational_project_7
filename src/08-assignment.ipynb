{
 "cells": [
  {
   "cell_type": "code",
   "execution_count": 1,
   "id": "7c143ef3-357c-4be1-85c5-13b8ca3eba6f",
   "metadata": {},
   "outputs": [],
   "source": [
    "import numpy as np\n",
    "import pandas as pd\n",
    "import reverse_geocoder as rg\n",
    "from sklearn.cluster import MeanShift\n",
    "import pycountry"
   ]
  },
  {
   "attachments": {},
   "cell_type": "markdown",
   "id": "0bf2c419-407b-4663-9c56-3a2a73b3240b",
   "metadata": {},
   "source": [
    "## 1"
   ]
  },
  {
   "attachments": {},
   "cell_type": "markdown",
   "id": "75b9b5d0-aaf4-4fb1-a9b0-d548e2b92bf3",
   "metadata": {},
   "source": [
    "Загружаем данные о посещениях заведений: \n",
    "- checkins.dat: отмечает чекины (посещения) пользователей на площадках. Каждая регистрация имеет уникальный             идентификатор,              а       также идентификатор пользователя и идентификатор места проведения.\n",
    "- Очищаем данные от записей с пропусками. \n",
    "- Выводим количество записей после очистки"
   ]
  },
  {
   "cell_type": "code",
   "execution_count": 2,
   "id": "7436c194-ad3d-4165-a043-33bb11eb51bf",
   "metadata": {},
   "outputs": [
    {
     "data": {
      "text/plain": [
       "396634"
      ]
     },
     "execution_count": 2,
     "metadata": {},
     "output_type": "execute_result"
    }
   ],
   "source": [
    "with open('../datasets/checkins.dat', 'r') as f:\n",
    "    next(f)  # пропустить первую строку\n",
    "    df = pd.DataFrame([l.rstrip().split('|') for l in f],\n",
    "                      columns=['id', 'user_id', 'venue_id', 'latitude', 'longitude', 'creat_at'])\n",
    "\n",
    "# Вывод DataFrame\n",
    "df = df.drop(0)\n",
    "df = df[['latitude', 'longitude', 'venue_id', 'id', 'user_id']].apply(\n",
    "    pd.to_numeric, errors='coerce')\n",
    "df = df.dropna()\n",
    "len(df)"
   ]
  },
  {
   "attachments": {},
   "cell_type": "markdown",
   "id": "f104cf4e-eeb1-4cc3-af59-f400050f1541",
   "metadata": {},
   "source": [
    "С помощью геолокаций и библиотеки [Reverse Geocoder](https://github.com/thampiman/reverse-geocoder),\n",
    "узнай страну для каждой геопозиции.\n",
    "Выводим **название** второй страны по количеству записей."
   ]
  },
  {
   "cell_type": "code",
   "execution_count": 3,
   "id": "fcac0562-4d3e-4bfb-b3c8-354c20f7bc5f",
   "metadata": {},
   "outputs": [
    {
     "name": "stdout",
     "output_type": "stream",
     "text": [
      "Loading formatted geocoded file...\n"
     ]
    },
    {
     "data": {
      "text/plain": [
       "'Indonesia'"
      ]
     },
     "execution_count": 3,
     "metadata": {},
     "output_type": "execute_result"
    }
   ],
   "source": [
    "# Создание кортежей из координат для использования в Reverse Geocoder\n",
    "coordinates = list(zip(df['latitude'], df['longitude']))\n",
    "\n",
    "# Определение страны для каждой геопозиции\n",
    "results = rg.search(coordinates)\n",
    "\n",
    "# Создание столбца 'cc' в DataFrame 'df'\n",
    "df['cc'] = [result['cc'] for result in results]\n",
    "\n",
    "# Подсчет количества записей для каждой страны\n",
    "country_counts = df['cc'].value_counts()\n",
    "\n",
    "# используется библиотека pycountry для получения имени страны на основе ее кода (alpha_2),\n",
    "# который извлекается из индекса 'country_counts' второго элемента.\n",
    "country_2 = pycountry.countries.get(alpha_2=country_counts.index[1]).name\n",
    "country_2"
   ]
  },
  {
   "attachments": {},
   "cell_type": "markdown",
   "id": "a7769b9b-67ab-4e12-b097-97bffcdea5aa",
   "metadata": {},
   "source": [
    "## 3"
   ]
  },
  {
   "attachments": {},
   "cell_type": "markdown",
   "id": "085620a7-1d14-4b40-a879-3665c6bfd9b8",
   "metadata": {},
   "source": [
    "Так как нас интересуют только Американские локации:\n",
    "- Очищаем данные от локации других стран\n",
    "- Оставляем 50 самых часто встречаемых заведений (venue_id).\n",
    "- Выводим количество локаций, оставшихся после этих очисток."
   ]
  },
  {
   "cell_type": "code",
   "execution_count": 4,
   "id": "6c518747-725a-48ed-b390-bc3c15977297",
   "metadata": {},
   "outputs": [
    {
     "data": {
      "text/plain": [
       "162099"
      ]
     },
     "execution_count": 4,
     "metadata": {},
     "output_type": "execute_result"
    }
   ],
   "source": [
    "# Фильтрация данных только для американских локаций\n",
    "american_df = df[df['cc'] == 'US']\n",
    "\n",
    "# Подсчет количества записей для каждого заведения (venue_id)\n",
    "venue_counts = american_df['venue_id'].value_counts()\n",
    "\n",
    "# Оставление только 50 самых часто встречаемых заведений\n",
    "top_50_venues = venue_counts.head(50).index\n",
    "\n",
    "# Очистка данных от локаций, не входящих в топ 50 заведений\n",
    "cleaned_df = american_df[american_df['venue_id'].isin(top_50_venues)]\n",
    "\n",
    "# Вывод количества локаций после очисток\n",
    "len(cleaned_df)"
   ]
  },
  {
   "attachments": {},
   "cell_type": "markdown",
   "id": "63857f92-61aa-49e9-b503-ffdcb3cf24c2",
   "metadata": {},
   "source": [
    "## 4"
   ]
  },
  {
   "attachments": {},
   "cell_type": "markdown",
   "id": "ff9ef0df-98c9-41b9-b4a6-bbd6ec51ff68",
   "metadata": {},
   "source": [
    "Решаем задачу кластеризации. \n",
    "- Пользуемся алгоритмом [Mean Shift] для кластеризации локаций. \n",
    "- В параметрах указываем `MeanShift(bandwidth=0.1, bin_seeding=True)`:\n",
    "    - `bandwidth=0.1` - это ширина ядра кластеризации. Для средних широт США - это порядка 5-10 км. \n",
    "    - `bin_seeding=True` - для ускорения работы алгоритма.\n",
    "    \n",
    "Выводим количество кластеров."
   ]
  },
  {
   "cell_type": "code",
   "execution_count": 5,
   "id": "f1f1302b-fe64-49d4-bdc7-7bd547d5dd6a",
   "metadata": {},
   "outputs": [
    {
     "data": {
      "text/plain": [
       "2846"
      ]
     },
     "execution_count": 5,
     "metadata": {},
     "output_type": "execute_result"
    }
   ],
   "source": [
    "# Выбор столбцов latitude и longitude для кластеризации\n",
    "coordinates = cleaned_df[['latitude', 'longitude']]\n",
    "\n",
    "ms = MeanShift(bandwidth=0.1, bin_seeding=True)\n",
    "ms.fit(coordinates)\n",
    "\n",
    "# После обучения модели MeanShift получаются координаты центров кластеров с помощью атрибута cluster_centers_.\n",
    "# Эти центры кластеров представляют оцененные местоположения кластеров в данных.\n",
    "cluster_centers = ms.cluster_centers_\n",
    "\n",
    "# Количество кластеров определяется путем нахождения уникальных меток (labels),\n",
    "# которые были присвоены каждой точке данных в атрибуте ms.labels_.\n",
    "# Функция np.unique() используется для получения уникальных меток.\n",
    "num_clusters = len(np.unique(ms.labels_))\n",
    "num_clusters"
   ]
  },
  {
   "attachments": {},
   "cell_type": "markdown",
   "id": "5527ab7b-7cc4-496d-af6c-36ad3f1bcb54",
   "metadata": {},
   "source": [
    "## 5"
   ]
  },
  {
   "attachments": {},
   "cell_type": "markdown",
   "id": "7c7ece37-8a85-4977-9390-b17787e8c9d6",
   "metadata": {},
   "source": [
    "Находим те центры кластеров, которые наиболее близко находятся к офисам продаж компании.\\\n",
    "Загружаем [данные по координатам офисов компании](datasets/offices.csv). Для каждого офиса найди 5 самых ближайших к нему центров кластеров. \\\n",
    "(Пренебрежем тем, что Земля круглая и рассчитаем Евклидово расстояние).\\\n",
    "У компании 11 офисов, значит у нас должно получится 55 мест установки баннеров. \\\n",
    "Выведем координаты установки баннера, который ближе всего находится к офису компании."
   ]
  },
  {
   "cell_type": "code",
   "execution_count": 6,
   "id": "d2c8ad48-240e-4fab-8699-9c6aa1829700",
   "metadata": {},
   "outputs": [
    {
     "data": {
      "text/html": [
       "<div>\n",
       "<style scoped>\n",
       "    .dataframe tbody tr th:only-of-type {\n",
       "        vertical-align: middle;\n",
       "    }\n",
       "\n",
       "    .dataframe tbody tr th {\n",
       "        vertical-align: top;\n",
       "    }\n",
       "\n",
       "    .dataframe thead th {\n",
       "        text-align: right;\n",
       "    }\n",
       "</style>\n",
       "<table border=\"1\" class=\"dataframe\">\n",
       "  <thead>\n",
       "    <tr style=\"text-align: right;\">\n",
       "      <th></th>\n",
       "      <th>index_office</th>\n",
       "      <th>Cluster_Center_Latitude</th>\n",
       "      <th>Cluster_Center_Longitude</th>\n",
       "      <th>Distance</th>\n",
       "    </tr>\n",
       "  </thead>\n",
       "  <tbody>\n",
       "    <tr>\n",
       "      <th>45</th>\n",
       "      <td>9</td>\n",
       "      <td>32.785318</td>\n",
       "      <td>-79.924742</td>\n",
       "      <td>0.004092</td>\n",
       "    </tr>\n",
       "  </tbody>\n",
       "</table>\n",
       "</div>"
      ],
      "text/plain": [
       "   index_office  Cluster_Center_Latitude  Cluster_Center_Longitude  Distance\n",
       "45            9                32.785318                -79.924742  0.004092"
      ]
     },
     "execution_count": 6,
     "metadata": {},
     "output_type": "execute_result"
    }
   ],
   "source": [
    "\n",
    "offices = pd.read_csv('../datasets/offices.csv')\n",
    "\n",
    "# Извлечение координат офисов из датасета\n",
    "office_coordinates = offices[['latitude', 'longitude']]\n",
    "\n",
    "# Вычисляем расстояния между офисами и центрами кластеров на основе их координат (широты и долготы) \n",
    " \n",
    "# 1 office_coordinates['latitude'].values[:, np.newaxis] - с помощью np.newaxis \n",
    "#   добавляется новое измерение в массив широты, чтобы его форма стала (n, 1), где n - количество офисов.\n",
    "# 2 cluster_centers[:, 0] - это массив значений широты центров кластеров.\n",
    "# 3 office_coordinates['latitude'].values[:, np.newaxis] - cluster_centers[:, 0] - вычитание \n",
    "#   поэлементно выполняется между массивами широты офисов и центров кластеров.\n",
    "# 4 office_coordinates['longitude'].values[:, np.newaxis] - cluster_centers[:, 1] - выполняется \n",
    "#   вычитание между массивами долготы офисов и центров кластеров.\n",
    "\n",
    "distances = np.sqrt((office_coordinates['latitude'].values[:, np.newaxis] - cluster_centers[:, 0]) ** 2 +\n",
    "                    (office_coordinates['longitude'].values[:, np.newaxis] - cluster_centers[:, 1]) ** 2)\n",
    "\n",
    "#   Нахождение 5 самых ближайших центров кластеров для каждого офиса\n",
    "# 1 Функция argsort() из библиотеки  используется для получения индексов элементов массива distances, \n",
    "#   отсортированных в порядке возрастания. Здесь axis=1 указывает, что сортировка производится по строкам, \n",
    "#   то есть для каждого офиса сортируются расстояния до центров кластеров.\n",
    "closest_clusters = np.argsort(distances, axis=1)[:, :5]\n",
    "\n",
    "# Создание списка словарей с информацией о ближайших центрах кластеров для каждого офиса\n",
    "banner_locations_data = []\n",
    "\n",
    "# Этот цикл  перебирает индекс i и кортеж (office_index, _) для каждой строки в датафрейме offices.\n",
    "# Функция enumerate() добавляет счетчик i к каждой строке, чтобы можно было отслеживать текущий индекс строки.\n",
    "# offices.iterrows() возвращает итератор, который позволяет перебирать строки (индекс и значения) в датафрейме offices. \n",
    "for i, (office_index, _) in enumerate(offices.iterrows()):\n",
    "    office_name = int(office_index)\n",
    "    # Из массива cluster_centers выбираются координаты ближайших центров кластеров \n",
    "    # для текущего офиса. closest_clusters[i] представляет индексы этих центров.\n",
    "    cluster_coords = cluster_centers[closest_clusters[i]]\n",
    "    \n",
    "    # Расчет Расстояния Между Офисом И Каждым Ближайшим Центром Кластера\n",
    "    # office_coordinates['latitude'].values[i] представляет широту конкретного офиса с индексом i.\n",
    "    # cluster_coords[:, 0] представляет массив широт всех ближайших центров кластеров для данного офиса.\n",
    "    # (office_coordinates['latitude'].values[i] - cluster_coords[:, 0]) вычисляет разницу между широтой данного офиса \n",
    "    # и широтами ближайших центров кластеров.\n",
    "    # Аналогично, office_coordinates['longitude'].values[i] - cluster_coords[:,1])\n",
    "    \n",
    "    distances_to_clusters = np.sqrt((office_coordinates['latitude'].values[i] - cluster_coords[:, 0]) ** 2 +\n",
    "                                    (office_coordinates['longitude'].values[i] - cluster_coords[:, 1]) ** 2)\n",
    "    \n",
    "    # Цикл перебирает каждое расстояние и добавляет его в список словарей\n",
    "    for j, distance in enumerate(distances_to_clusters):\n",
    "        banner_locations_data.append({'index_office': office_name,\n",
    "                                      'Cluster_Center_Latitude': cluster_coords[j, 0],\n",
    "                                      'Cluster_Center_Longitude': cluster_coords[j, 1],\n",
    "                                      'Distance': distance})\n",
    "\n",
    "# Создание нового датасета banner_locations \n",
    "banner_locations = pd.DataFrame(banner_locations_data)\n",
    "\n",
    "# Преобразование столбца 'index_office' в категориальный тип данных\n",
    "banner_locations['index_office'] = banner_locations['index_office'].astype('category')\n",
    "\n",
    "min_distance_index = banner_locations['Distance'].idxmin()\n",
    "\n",
    "# Извлечь строку с минимальным расстоянием\n",
    "closest_banner = banner_locations.loc[[min_distance_index]]\n",
    "\n",
    "closest_banner "
   ]
  },
  {
   "attachments": {},
   "cell_type": "markdown",
   "id": "d250c2ef-51a3-4fe8-98ca-b395d8e168ca",
   "metadata": {
    "tags": []
   },
   "source": [
    "## 6"
   ]
  },
  {
   "attachments": {},
   "cell_type": "markdown",
   "id": "bd639f7b-3d62-4e59-9522-77d44f866891",
   "metadata": {},
   "source": [
    "Отображаем точки расположения баннеров"
   ]
  },
  {
   "cell_type": "code",
   "execution_count": 7,
   "id": "bcaa76d6-b504-4f71-981d-5c23579a8013",
   "metadata": {},
   "outputs": [
    {
     "data": {
      "application/vnd.plotly.v1+json": {
       "config": {
        "plotlyServerURL": "https://plot.ly"
       },
       "data": [
        {
         "hovertemplate": "index_office=9<br>Cluster_Center_Latitude=%{lat}<br>Cluster_Center_Longitude=%{lon}<extra></extra>",
         "lat": [
          32.78531777579914,
          32.67952435,
          32.9810059,
          32.60823729999999,
          33.01850389999999
         ],
         "legendgroup": "9",
         "lon": [
          -79.92474241187222,
          -79.98575185,
          -80.0325867,
          -80.08481659999998,
          -80.1756481
         ],
         "marker": {
          "color": "#636efa"
         },
         "mode": "markers",
         "name": "9",
         "showlegend": true,
         "subplot": "mapbox",
         "type": "scattermapbox"
        },
        {
         "hovertemplate": "index_office=4<br>Cluster_Center_Latitude=%{lat}<br>Cluster_Center_Longitude=%{lon}<extra></extra>",
         "lat": [
          29.3013479,
          29.420566,
          29.53663335,
          29.6890241,
          29.4238472
         ],
         "legendgroup": "4",
         "lon": [
          -94.79769579999999,
          -94.92420136000001,
          -95.08341670833329,
          -95.00539099999999,
          -95.2441009
         ],
         "marker": {
          "color": "#EF553B"
         },
         "mode": "markers",
         "name": "4",
         "showlegend": true,
         "subplot": "mapbox",
         "type": "scattermapbox"
        },
        {
         "hovertemplate": "index_office=5<br>Cluster_Center_Latitude=%{lat}<br>Cluster_Center_Longitude=%{lon}<extra></extra>",
         "lat": [
          30.694356599999995,
          30.6035255,
          30.5476941,
          30.8829628,
          30.4065868
         ],
         "legendgroup": "5",
         "lon": [
          -88.04305410000002,
          -87.9036047,
          -88.1752796,
          -87.7730474,
          -87.6835974
         ],
         "marker": {
          "color": "#00cc96"
         },
         "mode": "markers",
         "name": "5",
         "showlegend": true,
         "subplot": "mapbox",
         "type": "scattermapbox"
        },
        {
         "hovertemplate": "index_office=3<br>Cluster_Center_Latitude=%{lat}<br>Cluster_Center_Longitude=%{lon}<extra></extra>",
         "lat": [
          32.715962853674256,
          32.78995149183675,
          32.981146362152884,
          33.01187904141415,
          33.128803522826104
         ],
         "legendgroup": "3",
         "lon": [
          -117.15819696624045,
          -116.98785069591843,
          -117.0783101094478,
          -117.27841119292941,
          -117.12284171739142
         ],
         "marker": {
          "color": "#ab63fa"
         },
         "mode": "markers",
         "name": "3",
         "showlegend": true,
         "subplot": "mapbox",
         "type": "scattermapbox"
        },
        {
         "hovertemplate": "index_office=6<br>Cluster_Center_Latitude=%{lat}<br>Cluster_Center_Longitude=%{lon}<extra></extra>",
         "lat": [
          27.949460812240474,
          27.920829383783826,
          27.746973450000002,
          28.016583642857146,
          28.18526993095238
         ],
         "legendgroup": "6",
         "lon": [
          -82.46497055591384,
          -82.28640781891897,
          -82.4203715,
          -82.66318034999999,
          -82.40535330714285
         ],
         "marker": {
          "color": "#FFA15A"
         },
         "mode": "markers",
         "name": "6",
         "showlegend": true,
         "subplot": "mapbox",
         "type": "scattermapbox"
        },
        {
         "hovertemplate": "index_office=10<br>Cluster_Center_Latitude=%{lat}<br>Cluster_Center_Longitude=%{lon}<extra></extra>",
         "lat": [
          39.28729392569308,
          39.194447474999954,
          39.354321202499975,
          39.42022647352941,
          39.07596327290643
         ],
         "legendgroup": "10",
         "lon": [
          -76.6134932840785,
          -76.67865593235311,
          -76.47229520250005,
          -76.6925704352943,
          -76.64914884975383
         ],
         "marker": {
          "color": "#19d3f3"
         },
         "mode": "markers",
         "name": "10",
         "showlegend": true,
         "subplot": "mapbox",
         "type": "scattermapbox"
        },
        {
         "hovertemplate": "index_office=7<br>Cluster_Center_Latitude=%{lat}<br>Cluster_Center_Longitude=%{lon}<extra></extra>",
         "lat": [
          25.78698590071344,
          25.846584911904795,
          26.005261301242115,
          26.122962019550084,
          26.115836193103444
         ],
         "legendgroup": "7",
         "lon": [
          -80.21855931584689,
          -80.3126238940477,
          -80.21103303105617,
          -80.16050044515634,
          -80.39392828275862
         ],
         "marker": {
          "color": "#FF6692"
         },
         "mode": "markers",
         "name": "7",
         "showlegend": true,
         "subplot": "mapbox",
         "type": "scattermapbox"
        },
        {
         "hovertemplate": "index_office=2<br>Cluster_Center_Latitude=%{lat}<br>Cluster_Center_Longitude=%{lon}<extra></extra>",
         "lat": [
          33.80980562408899,
          33.90736367348494,
          33.87300538551121,
          33.64122240583737,
          33.81265932112838
         ],
         "legendgroup": "2",
         "lon": [
          -118.14497105040418,
          -118.05538166969714,
          -118.37128393699788,
          -117.9440485963136,
          -117.89443830336086
         ],
         "marker": {
          "color": "#B6E880"
         },
         "mode": "markers",
         "name": "2",
         "showlegend": true,
         "subplot": "mapbox",
         "type": "scattermapbox"
        },
        {
         "hovertemplate": "index_office=1<br>Cluster_Center_Latitude=%{lat}<br>Cluster_Center_Longitude=%{lon}<extra></extra>",
         "lat": [
          34.18768865305686,
          34.19901751461786,
          34.392006145454594,
          34.124190013703675,
          34.03259501432132
         ],
         "legendgroup": "1",
         "lon": [
          -118.44880518275103,
          -118.55441576777461,
          -118.54976483909066,
          -118.34644844027598,
          -118.43918429626308
         ],
         "marker": {
          "color": "#FF97FF"
         },
         "mode": "markers",
         "name": "1",
         "showlegend": true,
         "subplot": "mapbox",
         "type": "scattermapbox"
        },
        {
         "hovertemplate": "index_office=8<br>Cluster_Center_Latitude=%{lat}<br>Cluster_Center_Longitude=%{lon}<extra></extra>",
         "lat": [
          30.33243195694452,
          30.277710062500002,
          30.160508138888886,
          30.664292787500003,
          30.045598283333334
         ],
         "legendgroup": "8",
         "lon": [
          -81.65492676666666,
          -81.39393922499998,
          -81.70538034444442,
          -81.46237491250001,
          -81.68569341666667
         ],
         "marker": {
          "color": "#FECB52"
         },
         "mode": "markers",
         "name": "8",
         "showlegend": true,
         "subplot": "mapbox",
         "type": "scattermapbox"
        },
        {
         "hovertemplate": "index_office=0<br>Cluster_Center_Latitude=%{lat}<br>Cluster_Center_Longitude=%{lon}<extra></extra>",
         "lat": [
          37.68804315672593,
          37.80416010605057,
          37.928434420481885,
          37.54512748476938,
          38.07602030399998
         ],
         "legendgroup": "0",
         "lon": [
          -122.4091421870596,
          -122.26813796504084,
          -122.52352486325269,
          -122.30069530092258,
          -122.23903582799998
         ],
         "marker": {
          "color": "#636efa"
         },
         "mode": "markers",
         "name": "0",
         "showlegend": true,
         "subplot": "mapbox",
         "type": "scattermapbox"
        }
       ],
       "layout": {
        "legend": {
         "title": {
          "text": "index_office"
         },
         "tracegroupgap": 0
        },
        "mapbox": {
         "center": {
          "lat": 32.28614103992872,
          "lon": -96.35449509835338
         },
         "domain": {
          "x": [
           0,
           1
          ],
          "y": [
           0,
           1
          ]
         },
         "style": "open-street-map",
         "zoom": 2.5
        },
        "margin": {
         "t": 60
        },
        "template": {
         "data": {
          "bar": [
           {
            "error_x": {
             "color": "#2a3f5f"
            },
            "error_y": {
             "color": "#2a3f5f"
            },
            "marker": {
             "line": {
              "color": "#E5ECF6",
              "width": 0.5
             },
             "pattern": {
              "fillmode": "overlay",
              "size": 10,
              "solidity": 0.2
             }
            },
            "type": "bar"
           }
          ],
          "barpolar": [
           {
            "marker": {
             "line": {
              "color": "#E5ECF6",
              "width": 0.5
             },
             "pattern": {
              "fillmode": "overlay",
              "size": 10,
              "solidity": 0.2
             }
            },
            "type": "barpolar"
           }
          ],
          "carpet": [
           {
            "aaxis": {
             "endlinecolor": "#2a3f5f",
             "gridcolor": "white",
             "linecolor": "white",
             "minorgridcolor": "white",
             "startlinecolor": "#2a3f5f"
            },
            "baxis": {
             "endlinecolor": "#2a3f5f",
             "gridcolor": "white",
             "linecolor": "white",
             "minorgridcolor": "white",
             "startlinecolor": "#2a3f5f"
            },
            "type": "carpet"
           }
          ],
          "choropleth": [
           {
            "colorbar": {
             "outlinewidth": 0,
             "ticks": ""
            },
            "type": "choropleth"
           }
          ],
          "contour": [
           {
            "colorbar": {
             "outlinewidth": 0,
             "ticks": ""
            },
            "colorscale": [
             [
              0,
              "#0d0887"
             ],
             [
              0.1111111111111111,
              "#46039f"
             ],
             [
              0.2222222222222222,
              "#7201a8"
             ],
             [
              0.3333333333333333,
              "#9c179e"
             ],
             [
              0.4444444444444444,
              "#bd3786"
             ],
             [
              0.5555555555555556,
              "#d8576b"
             ],
             [
              0.6666666666666666,
              "#ed7953"
             ],
             [
              0.7777777777777778,
              "#fb9f3a"
             ],
             [
              0.8888888888888888,
              "#fdca26"
             ],
             [
              1,
              "#f0f921"
             ]
            ],
            "type": "contour"
           }
          ],
          "contourcarpet": [
           {
            "colorbar": {
             "outlinewidth": 0,
             "ticks": ""
            },
            "type": "contourcarpet"
           }
          ],
          "heatmap": [
           {
            "colorbar": {
             "outlinewidth": 0,
             "ticks": ""
            },
            "colorscale": [
             [
              0,
              "#0d0887"
             ],
             [
              0.1111111111111111,
              "#46039f"
             ],
             [
              0.2222222222222222,
              "#7201a8"
             ],
             [
              0.3333333333333333,
              "#9c179e"
             ],
             [
              0.4444444444444444,
              "#bd3786"
             ],
             [
              0.5555555555555556,
              "#d8576b"
             ],
             [
              0.6666666666666666,
              "#ed7953"
             ],
             [
              0.7777777777777778,
              "#fb9f3a"
             ],
             [
              0.8888888888888888,
              "#fdca26"
             ],
             [
              1,
              "#f0f921"
             ]
            ],
            "type": "heatmap"
           }
          ],
          "heatmapgl": [
           {
            "colorbar": {
             "outlinewidth": 0,
             "ticks": ""
            },
            "colorscale": [
             [
              0,
              "#0d0887"
             ],
             [
              0.1111111111111111,
              "#46039f"
             ],
             [
              0.2222222222222222,
              "#7201a8"
             ],
             [
              0.3333333333333333,
              "#9c179e"
             ],
             [
              0.4444444444444444,
              "#bd3786"
             ],
             [
              0.5555555555555556,
              "#d8576b"
             ],
             [
              0.6666666666666666,
              "#ed7953"
             ],
             [
              0.7777777777777778,
              "#fb9f3a"
             ],
             [
              0.8888888888888888,
              "#fdca26"
             ],
             [
              1,
              "#f0f921"
             ]
            ],
            "type": "heatmapgl"
           }
          ],
          "histogram": [
           {
            "marker": {
             "pattern": {
              "fillmode": "overlay",
              "size": 10,
              "solidity": 0.2
             }
            },
            "type": "histogram"
           }
          ],
          "histogram2d": [
           {
            "colorbar": {
             "outlinewidth": 0,
             "ticks": ""
            },
            "colorscale": [
             [
              0,
              "#0d0887"
             ],
             [
              0.1111111111111111,
              "#46039f"
             ],
             [
              0.2222222222222222,
              "#7201a8"
             ],
             [
              0.3333333333333333,
              "#9c179e"
             ],
             [
              0.4444444444444444,
              "#bd3786"
             ],
             [
              0.5555555555555556,
              "#d8576b"
             ],
             [
              0.6666666666666666,
              "#ed7953"
             ],
             [
              0.7777777777777778,
              "#fb9f3a"
             ],
             [
              0.8888888888888888,
              "#fdca26"
             ],
             [
              1,
              "#f0f921"
             ]
            ],
            "type": "histogram2d"
           }
          ],
          "histogram2dcontour": [
           {
            "colorbar": {
             "outlinewidth": 0,
             "ticks": ""
            },
            "colorscale": [
             [
              0,
              "#0d0887"
             ],
             [
              0.1111111111111111,
              "#46039f"
             ],
             [
              0.2222222222222222,
              "#7201a8"
             ],
             [
              0.3333333333333333,
              "#9c179e"
             ],
             [
              0.4444444444444444,
              "#bd3786"
             ],
             [
              0.5555555555555556,
              "#d8576b"
             ],
             [
              0.6666666666666666,
              "#ed7953"
             ],
             [
              0.7777777777777778,
              "#fb9f3a"
             ],
             [
              0.8888888888888888,
              "#fdca26"
             ],
             [
              1,
              "#f0f921"
             ]
            ],
            "type": "histogram2dcontour"
           }
          ],
          "mesh3d": [
           {
            "colorbar": {
             "outlinewidth": 0,
             "ticks": ""
            },
            "type": "mesh3d"
           }
          ],
          "parcoords": [
           {
            "line": {
             "colorbar": {
              "outlinewidth": 0,
              "ticks": ""
             }
            },
            "type": "parcoords"
           }
          ],
          "pie": [
           {
            "automargin": true,
            "type": "pie"
           }
          ],
          "scatter": [
           {
            "fillpattern": {
             "fillmode": "overlay",
             "size": 10,
             "solidity": 0.2
            },
            "type": "scatter"
           }
          ],
          "scatter3d": [
           {
            "line": {
             "colorbar": {
              "outlinewidth": 0,
              "ticks": ""
             }
            },
            "marker": {
             "colorbar": {
              "outlinewidth": 0,
              "ticks": ""
             }
            },
            "type": "scatter3d"
           }
          ],
          "scattercarpet": [
           {
            "marker": {
             "colorbar": {
              "outlinewidth": 0,
              "ticks": ""
             }
            },
            "type": "scattercarpet"
           }
          ],
          "scattergeo": [
           {
            "marker": {
             "colorbar": {
              "outlinewidth": 0,
              "ticks": ""
             }
            },
            "type": "scattergeo"
           }
          ],
          "scattergl": [
           {
            "marker": {
             "colorbar": {
              "outlinewidth": 0,
              "ticks": ""
             }
            },
            "type": "scattergl"
           }
          ],
          "scattermapbox": [
           {
            "marker": {
             "colorbar": {
              "outlinewidth": 0,
              "ticks": ""
             }
            },
            "type": "scattermapbox"
           }
          ],
          "scatterpolar": [
           {
            "marker": {
             "colorbar": {
              "outlinewidth": 0,
              "ticks": ""
             }
            },
            "type": "scatterpolar"
           }
          ],
          "scatterpolargl": [
           {
            "marker": {
             "colorbar": {
              "outlinewidth": 0,
              "ticks": ""
             }
            },
            "type": "scatterpolargl"
           }
          ],
          "scatterternary": [
           {
            "marker": {
             "colorbar": {
              "outlinewidth": 0,
              "ticks": ""
             }
            },
            "type": "scatterternary"
           }
          ],
          "surface": [
           {
            "colorbar": {
             "outlinewidth": 0,
             "ticks": ""
            },
            "colorscale": [
             [
              0,
              "#0d0887"
             ],
             [
              0.1111111111111111,
              "#46039f"
             ],
             [
              0.2222222222222222,
              "#7201a8"
             ],
             [
              0.3333333333333333,
              "#9c179e"
             ],
             [
              0.4444444444444444,
              "#bd3786"
             ],
             [
              0.5555555555555556,
              "#d8576b"
             ],
             [
              0.6666666666666666,
              "#ed7953"
             ],
             [
              0.7777777777777778,
              "#fb9f3a"
             ],
             [
              0.8888888888888888,
              "#fdca26"
             ],
             [
              1,
              "#f0f921"
             ]
            ],
            "type": "surface"
           }
          ],
          "table": [
           {
            "cells": {
             "fill": {
              "color": "#EBF0F8"
             },
             "line": {
              "color": "white"
             }
            },
            "header": {
             "fill": {
              "color": "#C8D4E3"
             },
             "line": {
              "color": "white"
             }
            },
            "type": "table"
           }
          ]
         },
         "layout": {
          "annotationdefaults": {
           "arrowcolor": "#2a3f5f",
           "arrowhead": 0,
           "arrowwidth": 1
          },
          "autotypenumbers": "strict",
          "coloraxis": {
           "colorbar": {
            "outlinewidth": 0,
            "ticks": ""
           }
          },
          "colorscale": {
           "diverging": [
            [
             0,
             "#8e0152"
            ],
            [
             0.1,
             "#c51b7d"
            ],
            [
             0.2,
             "#de77ae"
            ],
            [
             0.3,
             "#f1b6da"
            ],
            [
             0.4,
             "#fde0ef"
            ],
            [
             0.5,
             "#f7f7f7"
            ],
            [
             0.6,
             "#e6f5d0"
            ],
            [
             0.7,
             "#b8e186"
            ],
            [
             0.8,
             "#7fbc41"
            ],
            [
             0.9,
             "#4d9221"
            ],
            [
             1,
             "#276419"
            ]
           ],
           "sequential": [
            [
             0,
             "#0d0887"
            ],
            [
             0.1111111111111111,
             "#46039f"
            ],
            [
             0.2222222222222222,
             "#7201a8"
            ],
            [
             0.3333333333333333,
             "#9c179e"
            ],
            [
             0.4444444444444444,
             "#bd3786"
            ],
            [
             0.5555555555555556,
             "#d8576b"
            ],
            [
             0.6666666666666666,
             "#ed7953"
            ],
            [
             0.7777777777777778,
             "#fb9f3a"
            ],
            [
             0.8888888888888888,
             "#fdca26"
            ],
            [
             1,
             "#f0f921"
            ]
           ],
           "sequentialminus": [
            [
             0,
             "#0d0887"
            ],
            [
             0.1111111111111111,
             "#46039f"
            ],
            [
             0.2222222222222222,
             "#7201a8"
            ],
            [
             0.3333333333333333,
             "#9c179e"
            ],
            [
             0.4444444444444444,
             "#bd3786"
            ],
            [
             0.5555555555555556,
             "#d8576b"
            ],
            [
             0.6666666666666666,
             "#ed7953"
            ],
            [
             0.7777777777777778,
             "#fb9f3a"
            ],
            [
             0.8888888888888888,
             "#fdca26"
            ],
            [
             1,
             "#f0f921"
            ]
           ]
          },
          "colorway": [
           "#636efa",
           "#EF553B",
           "#00cc96",
           "#ab63fa",
           "#FFA15A",
           "#19d3f3",
           "#FF6692",
           "#B6E880",
           "#FF97FF",
           "#FECB52"
          ],
          "font": {
           "color": "#2a3f5f"
          },
          "geo": {
           "bgcolor": "white",
           "lakecolor": "white",
           "landcolor": "#E5ECF6",
           "showlakes": true,
           "showland": true,
           "subunitcolor": "white"
          },
          "hoverlabel": {
           "align": "left"
          },
          "hovermode": "closest",
          "mapbox": {
           "style": "light"
          },
          "paper_bgcolor": "white",
          "plot_bgcolor": "#E5ECF6",
          "polar": {
           "angularaxis": {
            "gridcolor": "white",
            "linecolor": "white",
            "ticks": ""
           },
           "bgcolor": "#E5ECF6",
           "radialaxis": {
            "gridcolor": "white",
            "linecolor": "white",
            "ticks": ""
           }
          },
          "scene": {
           "xaxis": {
            "backgroundcolor": "#E5ECF6",
            "gridcolor": "white",
            "gridwidth": 2,
            "linecolor": "white",
            "showbackground": true,
            "ticks": "",
            "zerolinecolor": "white"
           },
           "yaxis": {
            "backgroundcolor": "#E5ECF6",
            "gridcolor": "white",
            "gridwidth": 2,
            "linecolor": "white",
            "showbackground": true,
            "ticks": "",
            "zerolinecolor": "white"
           },
           "zaxis": {
            "backgroundcolor": "#E5ECF6",
            "gridcolor": "white",
            "gridwidth": 2,
            "linecolor": "white",
            "showbackground": true,
            "ticks": "",
            "zerolinecolor": "white"
           }
          },
          "shapedefaults": {
           "line": {
            "color": "#2a3f5f"
           }
          },
          "ternary": {
           "aaxis": {
            "gridcolor": "white",
            "linecolor": "white",
            "ticks": ""
           },
           "baxis": {
            "gridcolor": "white",
            "linecolor": "white",
            "ticks": ""
           },
           "bgcolor": "#E5ECF6",
           "caxis": {
            "gridcolor": "white",
            "linecolor": "white",
            "ticks": ""
           }
          },
          "title": {
           "x": 0.05
          },
          "xaxis": {
           "automargin": true,
           "gridcolor": "white",
           "linecolor": "white",
           "ticks": "",
           "title": {
            "standoff": 15
           },
           "zerolinecolor": "white",
           "zerolinewidth": 2
          },
          "yaxis": {
           "automargin": true,
           "gridcolor": "white",
           "linecolor": "white",
           "ticks": "",
           "title": {
            "standoff": 15
           },
           "zerolinecolor": "white",
           "zerolinewidth": 2
          }
         }
        }
       }
      }
     },
     "metadata": {},
     "output_type": "display_data"
    }
   ],
   "source": [
    "import plotly.express as px\n",
    "\n",
    "banner_locations = banner_locations.sort_values(by='Distance')\n",
    "fig = px.scatter_mapbox(banner_locations,\n",
    "                        lat=\"Cluster_Center_Latitude\",\n",
    "                        lon=\"Cluster_Center_Longitude\",\n",
    "                        color=\"index_office\",\n",
    "                        zoom=2.5,\n",
    "                        mapbox_style='open-street-map'\n",
    "                        )\n",
    "\n",
    "\n",
    "# Отображение графика\n",
    "fig.show()"
   ]
  }
 ],
 "metadata": {
  "kernelspec": {
   "display_name": "Python 3 (ipykernel)",
   "language": "python",
   "name": "python3"
  },
  "language_info": {
   "codemirror_mode": {
    "name": "ipython",
    "version": 3
   },
   "file_extension": ".py",
   "mimetype": "text/x-python",
   "name": "python",
   "nbconvert_exporter": "python",
   "pygments_lexer": "ipython3",
   "version": "3.10.11"
  }
 },
 "nbformat": 4,
 "nbformat_minor": 5
}
